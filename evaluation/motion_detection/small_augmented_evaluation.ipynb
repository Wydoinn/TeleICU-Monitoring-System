{
 "cells": [
  {
   "cell_type": "markdown",
   "metadata": {},
   "source": [
    "# Metrics Evaluation of Motion Detection Small Model with Data Augmentation"
   ]
  },
  {
   "cell_type": "code",
   "execution_count": 3,
   "metadata": {},
   "outputs": [
    {
     "name": "stdout",
     "output_type": "stream",
     "text": [
      "Ultralytics YOLOv8.1.34 🚀 Python-3.11.0 torch-2.1.2 CPU (Apple M2)\n",
      "YOLOv10s summary (fused): 293 layers, 8038830 parameters, 0 gradients, 24.5 GFLOPs\n"
     ]
    },
    {
     "name": "stderr",
     "output_type": "stream",
     "text": [
      "\u001b[34m\u001b[1mval: \u001b[0mScanning /Users/wydoinn/Documents/TeleICU Monitoring System/dataset/motion_augmented/valid/labels... 930 images, 0 backgrounds, 0 corrupt: 100%|██████████| 930/930 [00:00<00:00, 4219.69it/s]"
     ]
    },
    {
     "name": "stdout",
     "output_type": "stream",
     "text": [
      "\u001b[34m\u001b[1mval: \u001b[0mNew cache created: /Users/wydoinn/Documents/TeleICU Monitoring System/dataset/motion_augmented/valid/labels.cache\n"
     ]
    },
    {
     "name": "stderr",
     "output_type": "stream",
     "text": [
      "\n",
      "                 Class     Images  Instances      Box(P          R      mAP50  mAP50-95): 100%|██████████| 59/59 [07:02<00:00,  7.17s/it]\n"
     ]
    },
    {
     "name": "stdout",
     "output_type": "stream",
     "text": [
      "                   all        930       1267      0.719       0.65      0.737       0.44\n",
      "               Falling        930         12      0.158       0.75      0.536      0.419\n",
      "               Sitting        930        196      0.884      0.679      0.855      0.486\n",
      "              Sleeping        930        806      0.989      0.567      0.879      0.569\n",
      "              Standing        930        148       0.86      0.635      0.768      0.389\n",
      "               Walking        930        105      0.704      0.619      0.647      0.338\n",
      "Speed: 0.9ms preprocess, 450.8ms inference, 0.0ms loss, 0.2ms postprocess per image\n",
      "Results saved to \u001b[1m/Users/wydoinn/Documents/TeleICU Monitoring/yolov10/runs/detect/val21\u001b[0m\n"
     ]
    }
   ],
   "source": [
    "from ultralytics import YOLOv10\n",
    "\n",
    "# Load a model\n",
    "model = YOLOv10(\"/Users/wydoinn/Documents/TeleICU Monitoring System/runs/motion_detection/small_augmented_runs/detect/train/weights/best.pt\")\n",
    "\n",
    "# Validate the model\n",
    "metrics = model.val(data='/Users/wydoinn/Documents/TeleICU Monitoring System/dataset/motion_augmented/data.yaml')"
   ]
  }
 ],
 "metadata": {
  "kernelspec": {
   "display_name": "Python 3",
   "language": "python",
   "name": "python3"
  },
  "language_info": {
   "codemirror_mode": {
    "name": "ipython",
    "version": 3
   },
   "file_extension": ".py",
   "mimetype": "text/x-python",
   "name": "python",
   "nbconvert_exporter": "python",
   "pygments_lexer": "ipython3",
   "version": "3.11.0"
  }
 },
 "nbformat": 4,
 "nbformat_minor": 2
}
