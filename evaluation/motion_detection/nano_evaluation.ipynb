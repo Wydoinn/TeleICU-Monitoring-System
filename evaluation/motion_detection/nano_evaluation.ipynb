{
 "cells": [
  {
   "cell_type": "markdown",
   "metadata": {},
   "source": [
    "# Metrics Evaluation of Motion Detection Nano Model"
   ]
  },
  {
   "cell_type": "code",
   "execution_count": 3,
   "metadata": {},
   "outputs": [
    {
     "name": "stdout",
     "output_type": "stream",
     "text": [
      "Ultralytics YOLOv8.1.34 🚀 Python-3.11.0 torch-2.1.2 CPU (Apple M2)\n",
      "YOLOv10n summary (fused): 285 layers, 2696366 parameters, 0 gradients, 8.2 GFLOPs\n"
     ]
    },
    {
     "name": "stderr",
     "output_type": "stream",
     "text": [
      "\u001b[34m\u001b[1mval: \u001b[0mScanning /Users/wydoinn/Documents/TeleICU Monitoring System/dataset/motion/valid/labels... 1142 images, 0 backgrounds, 0 corrupt: 100%|██████████| 1142/1142 [00:00<00:00, 4333.87it/s]"
     ]
    },
    {
     "name": "stdout",
     "output_type": "stream",
     "text": [
      "\u001b[34m\u001b[1mval: \u001b[0mNew cache created: /Users/wydoinn/Documents/TeleICU Monitoring System/dataset/motion/valid/labels.cache\n"
     ]
    },
    {
     "name": "stderr",
     "output_type": "stream",
     "text": [
      "\n",
      "                 Class     Images  Instances      Box(P          R      mAP50  mAP50-95): 100%|██████████| 72/72 [04:07<00:00,  3.44s/it]\n"
     ]
    },
    {
     "name": "stdout",
     "output_type": "stream",
     "text": [
      "                   all       1142       1528       0.71      0.701       0.77      0.454\n",
      "               Falling       1142         18      0.277      0.778      0.733      0.528\n",
      "               Sitting       1142        248      0.734      0.713      0.775      0.445\n",
      "              Sleeping       1142        952      0.945      0.716      0.903      0.561\n",
      "              Standing       1142        187      0.956      0.582      0.806      0.431\n",
      "               Walking       1142        123      0.639      0.715      0.635      0.305\n",
      "Speed: 0.5ms preprocess, 213.2ms inference, 0.0ms loss, 0.2ms postprocess per image\n",
      "Results saved to \u001b[1m/Users/wydoinn/Documents/TeleICU Monitoring/yolov10/runs/detect/val17\u001b[0m\n"
     ]
    }
   ],
   "source": [
    "from ultralytics import YOLOv10\n",
    "\n",
    "# Load a model\n",
    "model = YOLOv10(\"/Users/wydoinn/Documents/TeleICU Monitoring System/runs/motion_detection/nano_runs/detect/train/weights/best.pt\")\n",
    "\n",
    "# Validate the model\n",
    "metrics = model.val(data='/Users/wydoinn/Documents/TeleICU Monitoring System/dataset/motion/data.yaml')"
   ]
  }
 ],
 "metadata": {
  "kernelspec": {
   "display_name": "Python 3",
   "language": "python",
   "name": "python3"
  },
  "language_info": {
   "codemirror_mode": {
    "name": "ipython",
    "version": 3
   },
   "file_extension": ".py",
   "mimetype": "text/x-python",
   "name": "python",
   "nbconvert_exporter": "python",
   "pygments_lexer": "ipython3",
   "version": "3.11.0"
  }
 },
 "nbformat": 4,
 "nbformat_minor": 2
}
