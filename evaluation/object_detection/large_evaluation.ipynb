{
 "cells": [
  {
   "cell_type": "markdown",
   "metadata": {},
   "source": [
    "# Metrics Evaluation of Object Detection Large Model"
   ]
  },
  {
   "cell_type": "code",
   "execution_count": 3,
   "metadata": {},
   "outputs": [
    {
     "name": "stdout",
     "output_type": "stream",
     "text": [
      "Ultralytics YOLOv8.1.34 🚀 Python-3.11.0 torch-2.1.2 CPU (Apple M2)\n",
      "YOLOv10l summary (fused): 461 layers, 25722536 parameters, 0 gradients, 126.3 GFLOPs\n"
     ]
    },
    {
     "name": "stderr",
     "output_type": "stream",
     "text": [
      "\u001b[34m\u001b[1mval: \u001b[0mScanning /Users/wydoinn/Documents/TeleICU Monitoring System/dataset/object/valid/labels.cache... 594 images, 0 backgrounds, 0 corrupt: 100%|██████████| 594/594 [00:00<?, ?it/s]\n",
      "                 Class     Images  Instances      Box(P          R      mAP50  mAP50-95): 100%|██████████| 38/38 [15:54<00:00, 25.11s/it]\n"
     ]
    },
    {
     "name": "stdout",
     "output_type": "stream",
     "text": [
      "                   all        594       1745       0.73      0.688      0.746       0.44\n",
      "         Family-Member        594        749      0.762       0.72      0.777      0.457\n",
      "           Intensivist        594        286      0.698      0.657       0.72      0.461\n",
      "                 Nurse        594        361      0.708      0.704      0.746      0.471\n",
      "               Patient        594        349       0.75      0.673      0.741       0.37\n",
      "Speed: 0.9ms preprocess, 1601.1ms inference, 0.0ms loss, 0.3ms postprocess per image\n",
      "Results saved to \u001b[1m/Users/wydoinn/Documents/TeleICU Monitoring/yolov10/runs/detect/val13\u001b[0m\n"
     ]
    }
   ],
   "source": [
    "from ultralytics import YOLOv10\n",
    "\n",
    "# Load a model\n",
    "model = YOLOv10(\"/Users/wydoinn/Documents/TeleICU Monitoring System/runs/object_detection/large_runs/detect/train/weights/best.pt\")\n",
    "\n",
    "# Validate the model\n",
    "metrics = model.val(data='/Users/wydoinn/Documents/TeleICU Monitoring System/dataset/object/data.yaml')"
   ]
  }
 ],
 "metadata": {
  "kernelspec": {
   "display_name": "Python 3",
   "language": "python",
   "name": "python3"
  },
  "language_info": {
   "codemirror_mode": {
    "name": "ipython",
    "version": 3
   },
   "file_extension": ".py",
   "mimetype": "text/x-python",
   "name": "python",
   "nbconvert_exporter": "python",
   "pygments_lexer": "ipython3",
   "version": "3.11.0"
  }
 },
 "nbformat": 4,
 "nbformat_minor": 2
}
