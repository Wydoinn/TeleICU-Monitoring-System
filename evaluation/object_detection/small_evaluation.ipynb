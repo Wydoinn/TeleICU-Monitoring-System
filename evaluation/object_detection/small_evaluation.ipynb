{
 "cells": [
  {
   "cell_type": "markdown",
   "metadata": {},
   "source": [
    "# Metrics Evaluation of Object Detection Small Model"
   ]
  },
  {
   "cell_type": "code",
   "execution_count": 3,
   "metadata": {},
   "outputs": [
    {
     "name": "stdout",
     "output_type": "stream",
     "text": [
      "Ultralytics YOLOv8.1.34 🚀 Python-3.11.0 torch-2.1.2 CPU (Apple M2)\n",
      "YOLOv10s summary (fused): 293 layers, 8038056 parameters, 0 gradients, 24.5 GFLOPs\n"
     ]
    },
    {
     "name": "stderr",
     "output_type": "stream",
     "text": [
      "\u001b[34m\u001b[1mval: \u001b[0mScanning /Users/wydoinn/Documents/TeleICU Monitoring System/dataset/object/valid/labels.cache... 594 images, 0 backgrounds, 0 corrupt: 100%|██████████| 594/594 [00:00<?, ?it/s]\n",
      "                 Class     Images  Instances      Box(P          R      mAP50  mAP50-95): 100%|██████████| 38/38 [04:28<00:00,  7.06s/it]\n"
     ]
    },
    {
     "name": "stdout",
     "output_type": "stream",
     "text": [
      "                   all        594       1745      0.786      0.716      0.793      0.467\n",
      "         Family-Member        594        749      0.822      0.678      0.798      0.481\n",
      "           Intensivist        594        286      0.818      0.722      0.802      0.496\n",
      "                 Nurse        594        361      0.718      0.761      0.786      0.488\n",
      "               Patient        594        349      0.788      0.705      0.785      0.405\n",
      "Speed: 0.8ms preprocess, 447.2ms inference, 0.0ms loss, 0.2ms postprocess per image\n",
      "Results saved to \u001b[1m/Users/wydoinn/Documents/TeleICU Monitoring/yolov10/runs/detect/val10\u001b[0m\n"
     ]
    }
   ],
   "source": [
    "from ultralytics import YOLOv10\n",
    "\n",
    "# Load a model\n",
    "model = YOLOv10(\"/Users/wydoinn/Documents/TeleICU Monitoring System/runs/object_detection/small_runs/detect/train/weights/best.pt\")\n",
    "\n",
    "# Validate the model\n",
    "metrics = model.val(data='/Users/wydoinn/Documents/TeleICU Monitoring System/dataset/object/data.yaml')"
   ]
  }
 ],
 "metadata": {
  "kernelspec": {
   "display_name": "Python 3",
   "language": "python",
   "name": "python3"
  },
  "language_info": {
   "codemirror_mode": {
    "name": "ipython",
    "version": 3
   },
   "file_extension": ".py",
   "mimetype": "text/x-python",
   "name": "python",
   "nbconvert_exporter": "python",
   "pygments_lexer": "ipython3",
   "version": "3.11.0"
  }
 },
 "nbformat": 4,
 "nbformat_minor": 2
}
